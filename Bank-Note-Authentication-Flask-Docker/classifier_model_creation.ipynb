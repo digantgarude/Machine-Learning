{
 "cells": [
  {
   "cell_type": "code",
   "execution_count": 2,
   "metadata": {},
   "outputs": [],
   "source": [
    "import pandas as pd\n",
    "import numpy as np\n",
    "import matplotlib.pyplot as plt"
   ]
  },
  {
   "cell_type": "code",
   "execution_count": 3,
   "metadata": {},
   "outputs": [],
   "source": [
    "df = pd.read_csv(\"BankNote_Authentication.csv\")\n",
    "\n",
    "X = df.iloc[:,:-1]\n",
    "y = df.iloc[:,-1]\n"
   ]
  },
  {
   "cell_type": "code",
   "execution_count": 4,
   "metadata": {},
   "outputs": [
    {
     "output_type": "execute_result",
     "data": {
      "text/plain": "      variance  skewness  curtosis  entropy  class\n0      3.62160   8.66610   -2.8073 -0.44699      0\n1      4.54590   8.16740   -2.4586 -1.46210      0\n2      3.86600  -2.63830    1.9242  0.10645      0\n3      3.45660   9.52280   -4.0112 -3.59440      0\n4      0.32924  -4.45520    4.5718 -0.98880      0\n...        ...       ...       ...      ...    ...\n1367   0.40614   1.34920   -1.4501 -0.55949      1\n1368  -1.38870  -4.87730    6.4774  0.34179      1\n1369  -3.75030 -13.45860   17.5932 -2.77710      1\n1370  -3.56370  -8.38270   12.3930 -1.28230      1\n1371  -2.54190  -0.65804    2.6842  1.19520      1\n\n[1372 rows x 5 columns]",
      "text/html": "<div>\n<style scoped>\n    .dataframe tbody tr th:only-of-type {\n        vertical-align: middle;\n    }\n\n    .dataframe tbody tr th {\n        vertical-align: top;\n    }\n\n    .dataframe thead th {\n        text-align: right;\n    }\n</style>\n<table border=\"1\" class=\"dataframe\">\n  <thead>\n    <tr style=\"text-align: right;\">\n      <th></th>\n      <th>variance</th>\n      <th>skewness</th>\n      <th>curtosis</th>\n      <th>entropy</th>\n      <th>class</th>\n    </tr>\n  </thead>\n  <tbody>\n    <tr>\n      <th>0</th>\n      <td>3.62160</td>\n      <td>8.66610</td>\n      <td>-2.8073</td>\n      <td>-0.44699</td>\n      <td>0</td>\n    </tr>\n    <tr>\n      <th>1</th>\n      <td>4.54590</td>\n      <td>8.16740</td>\n      <td>-2.4586</td>\n      <td>-1.46210</td>\n      <td>0</td>\n    </tr>\n    <tr>\n      <th>2</th>\n      <td>3.86600</td>\n      <td>-2.63830</td>\n      <td>1.9242</td>\n      <td>0.10645</td>\n      <td>0</td>\n    </tr>\n    <tr>\n      <th>3</th>\n      <td>3.45660</td>\n      <td>9.52280</td>\n      <td>-4.0112</td>\n      <td>-3.59440</td>\n      <td>0</td>\n    </tr>\n    <tr>\n      <th>4</th>\n      <td>0.32924</td>\n      <td>-4.45520</td>\n      <td>4.5718</td>\n      <td>-0.98880</td>\n      <td>0</td>\n    </tr>\n    <tr>\n      <th>...</th>\n      <td>...</td>\n      <td>...</td>\n      <td>...</td>\n      <td>...</td>\n      <td>...</td>\n    </tr>\n    <tr>\n      <th>1367</th>\n      <td>0.40614</td>\n      <td>1.34920</td>\n      <td>-1.4501</td>\n      <td>-0.55949</td>\n      <td>1</td>\n    </tr>\n    <tr>\n      <th>1368</th>\n      <td>-1.38870</td>\n      <td>-4.87730</td>\n      <td>6.4774</td>\n      <td>0.34179</td>\n      <td>1</td>\n    </tr>\n    <tr>\n      <th>1369</th>\n      <td>-3.75030</td>\n      <td>-13.45860</td>\n      <td>17.5932</td>\n      <td>-2.77710</td>\n      <td>1</td>\n    </tr>\n    <tr>\n      <th>1370</th>\n      <td>-3.56370</td>\n      <td>-8.38270</td>\n      <td>12.3930</td>\n      <td>-1.28230</td>\n      <td>1</td>\n    </tr>\n    <tr>\n      <th>1371</th>\n      <td>-2.54190</td>\n      <td>-0.65804</td>\n      <td>2.6842</td>\n      <td>1.19520</td>\n      <td>1</td>\n    </tr>\n  </tbody>\n</table>\n<p>1372 rows × 5 columns</p>\n</div>"
     },
     "metadata": {},
     "execution_count": 4
    }
   ],
   "source": [
    "df"
   ]
  },
  {
   "cell_type": "code",
   "execution_count": 9,
   "metadata": {},
   "outputs": [],
   "source": [
    "from sklearn.model_selection import train_test_split\n",
    "from sklearn.ensemble import RandomForestClassifier\n",
    "from sklearn.metrics import accuracy_score"
   ]
  },
  {
   "cell_type": "code",
   "execution_count": 7,
   "metadata": {},
   "outputs": [],
   "source": [
    "x_train,x_test,y_train,y_test = train_test_split(X,y,test_size=0.3,random_state=0)"
   ]
  },
  {
   "cell_type": "code",
   "execution_count": 10,
   "metadata": {},
   "outputs": [
    {
     "output_type": "execute_result",
     "data": {
      "text/plain": "0.9878640776699029"
     },
     "metadata": {},
     "execution_count": 10
    }
   ],
   "source": [
    "classifier = RandomForestClassifier()\n",
    "classifier.fit(x_train,y_train)\n",
    "y_pred = classifier.predict(x_test)\n",
    "accuracy_score(y_test,y_pred)"
   ]
  },
  {
   "cell_type": "code",
   "execution_count": 13,
   "metadata": {},
   "outputs": [],
   "source": [
    "import pickle\n",
    "outfile = open(\"classifier.pkl\",\"wb\")\n",
    "pickle_out = pickle.dump(classifier,outfile)"
   ]
  }
 ],
 "metadata": {
  "language_info": {
   "codemirror_mode": {
    "name": "ipython",
    "version": 3
   },
   "file_extension": ".py",
   "mimetype": "text/x-python",
   "name": "python",
   "nbconvert_exporter": "python",
   "pygments_lexer": "ipython3",
   "version": "3.7.4-final"
  },
  "orig_nbformat": 2,
  "kernelspec": {
   "name": "python37464bitbasecondae4b14580a121487e86254d9aa4762eea",
   "display_name": "Python 3.7.4 64-bit ('base': conda)"
  }
 },
 "nbformat": 4,
 "nbformat_minor": 2
}