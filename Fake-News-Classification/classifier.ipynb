{
 "cells": [
  {
   "cell_type": "code",
   "execution_count": 1,
   "metadata": {},
   "outputs": [],
   "source": [
    "import pandas as pd \n",
    "import matplotlib.pyplot as plt\n",
    "import seaborn as sns"
   ]
  },
  {
   "cell_type": "code",
   "execution_count": 2,
   "metadata": {},
   "outputs": [],
   "source": [
    "df_train = pd.read_csv(\"train.csv\")\n",
    "df_test = pd.read_csv(\"test.csv\")"
   ]
  },
  {
   "cell_type": "code",
   "execution_count": 21,
   "metadata": {},
   "outputs": [
    {
     "output_type": "execute_result",
     "data": {
      "text/plain": "         id                                              title  \\\n0     20800  Specter of Trump Loosens Tongues, if Not Purse...   \n1     20801  Russian warships ready to strike terrorists ne...   \n2     20802  #NoDAPL: Native American Leaders Vow to Stay A...   \n3     20803  Tim Tebow Will Attempt Another Comeback, This ...   \n4     20804                    Keiser Report: Meme Wars (E995)   \n...     ...                                                ...   \n5195  25995  The Bangladeshi Traffic Jam That Never Ends - ...   \n5196  25996  John Kasich Signs One Abortion Bill in Ohio bu...   \n5197  25997  California Today: What, Exactly, Is in Your Su...   \n5198  25998  300 US Marines To Be Deployed To Russian Borde...   \n5199  25999  Awkward Sex, Onscreen and Off - The New York T...   \n\n                       author  \\\n0            David Streitfeld   \n1                         NaN   \n2               Common Dreams   \n3               Daniel Victor   \n4     Truth Broadcast Network   \n...                       ...   \n5195               Jody Rosen   \n5196      Sheryl Gay Stolberg   \n5197             Mike McPhate   \n5198                      NaN   \n5199              Teddy Wayne   \n\n                                                   text  \n0     PALO ALTO, Calif.  —   After years of scorning...  \n1     Russian warships ready to strike terrorists ne...  \n2     Videos #NoDAPL: Native American Leaders Vow to...  \n3     If at first you don’t succeed, try a different...  \n4     42 mins ago 1 Views 0 Comments 0 Likes 'For th...  \n...                                                 ...  \n5195  Of all the dysfunctions that plague the world’...  \n5196  WASHINGTON  —   Gov. John Kasich of Ohio on Tu...  \n5197  Good morning. (Want to get California Today by...  \n5198  « Previous - Next » 300 US Marines To Be Deplo...  \n5199  Perhaps you’ve seen the new TV series whose pi...  \n\n[5200 rows x 4 columns]",
      "text/html": "<div>\n<style scoped>\n    .dataframe tbody tr th:only-of-type {\n        vertical-align: middle;\n    }\n\n    .dataframe tbody tr th {\n        vertical-align: top;\n    }\n\n    .dataframe thead th {\n        text-align: right;\n    }\n</style>\n<table border=\"1\" class=\"dataframe\">\n  <thead>\n    <tr style=\"text-align: right;\">\n      <th></th>\n      <th>id</th>\n      <th>title</th>\n      <th>author</th>\n      <th>text</th>\n    </tr>\n  </thead>\n  <tbody>\n    <tr>\n      <th>0</th>\n      <td>20800</td>\n      <td>Specter of Trump Loosens Tongues, if Not Purse...</td>\n      <td>David Streitfeld</td>\n      <td>PALO ALTO, Calif.  —   After years of scorning...</td>\n    </tr>\n    <tr>\n      <th>1</th>\n      <td>20801</td>\n      <td>Russian warships ready to strike terrorists ne...</td>\n      <td>NaN</td>\n      <td>Russian warships ready to strike terrorists ne...</td>\n    </tr>\n    <tr>\n      <th>2</th>\n      <td>20802</td>\n      <td>#NoDAPL: Native American Leaders Vow to Stay A...</td>\n      <td>Common Dreams</td>\n      <td>Videos #NoDAPL: Native American Leaders Vow to...</td>\n    </tr>\n    <tr>\n      <th>3</th>\n      <td>20803</td>\n      <td>Tim Tebow Will Attempt Another Comeback, This ...</td>\n      <td>Daniel Victor</td>\n      <td>If at first you don’t succeed, try a different...</td>\n    </tr>\n    <tr>\n      <th>4</th>\n      <td>20804</td>\n      <td>Keiser Report: Meme Wars (E995)</td>\n      <td>Truth Broadcast Network</td>\n      <td>42 mins ago 1 Views 0 Comments 0 Likes 'For th...</td>\n    </tr>\n    <tr>\n      <th>...</th>\n      <td>...</td>\n      <td>...</td>\n      <td>...</td>\n      <td>...</td>\n    </tr>\n    <tr>\n      <th>5195</th>\n      <td>25995</td>\n      <td>The Bangladeshi Traffic Jam That Never Ends - ...</td>\n      <td>Jody Rosen</td>\n      <td>Of all the dysfunctions that plague the world’...</td>\n    </tr>\n    <tr>\n      <th>5196</th>\n      <td>25996</td>\n      <td>John Kasich Signs One Abortion Bill in Ohio bu...</td>\n      <td>Sheryl Gay Stolberg</td>\n      <td>WASHINGTON  —   Gov. John Kasich of Ohio on Tu...</td>\n    </tr>\n    <tr>\n      <th>5197</th>\n      <td>25997</td>\n      <td>California Today: What, Exactly, Is in Your Su...</td>\n      <td>Mike McPhate</td>\n      <td>Good morning. (Want to get California Today by...</td>\n    </tr>\n    <tr>\n      <th>5198</th>\n      <td>25998</td>\n      <td>300 US Marines To Be Deployed To Russian Borde...</td>\n      <td>NaN</td>\n      <td>« Previous - Next » 300 US Marines To Be Deplo...</td>\n    </tr>\n    <tr>\n      <th>5199</th>\n      <td>25999</td>\n      <td>Awkward Sex, Onscreen and Off - The New York T...</td>\n      <td>Teddy Wayne</td>\n      <td>Perhaps you’ve seen the new TV series whose pi...</td>\n    </tr>\n  </tbody>\n</table>\n<p>5200 rows × 4 columns</p>\n</div>"
     },
     "metadata": {},
     "execution_count": 21
    }
   ],
   "source": [
    "df_train.appl"
   ]
  }
 ],
 "metadata": {
  "language_info": {
   "codemirror_mode": {
    "name": "ipython",
    "version": 3
   },
   "file_extension": ".py",
   "mimetype": "text/x-python",
   "name": "python",
   "nbconvert_exporter": "python",
   "pygments_lexer": "ipython3",
   "version": "3.7.4-final"
  },
  "orig_nbformat": 2,
  "kernelspec": {
   "name": "python37464bitbasecondae4b14580a121487e86254d9aa4762eea",
   "display_name": "Python 3.7.4 64-bit ('base': conda)"
  }
 },
 "nbformat": 4,
 "nbformat_minor": 2
}