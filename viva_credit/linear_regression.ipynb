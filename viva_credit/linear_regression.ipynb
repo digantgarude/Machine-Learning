{
 "nbformat": 4,
 "nbformat_minor": 2,
 "metadata": {
  "language_info": {
   "name": "python",
   "codemirror_mode": {
    "name": "ipython",
    "version": 3
   },
   "version": "3.7.4"
  },
  "orig_nbformat": 2,
  "file_extension": ".py",
  "mimetype": "text/x-python",
  "name": "python",
  "npconvert_exporter": "python",
  "pygments_lexer": "ipython3",
  "version": 3
 },
 "cells": [
  {
   "cell_type": "code",
   "execution_count": 2,
   "metadata": {},
   "outputs": [],
   "source": [
    "import pandas as pd\n",
    "from sklearn.linear_model import LogisticRegression\n",
    "from sklearn.metrics import confusion_matrix,accuracy_score\n",
    "from sklearn.model_selection import train_test_split\n",
    "from sklearn.preprocessing import StandardScaler \n",
    "import numpy as np\n",
    "import matplotlib.pyplot as plt"
   ]
  },
  {
   "cell_type": "code",
   "execution_count": 17,
   "metadata": {},
   "outputs": [],
   "source": [
    "data = pd.read_csv(\"./viva_credit.csv\")\n",
    "# print(len(data.index))"
   ]
  },
  {
   "cell_type": "code",
   "execution_count": 18,
   "metadata": {},
   "outputs": [],
   "source": [
    "x = data.iloc[:,1:-1]\n",
    "y = data.iloc[:,-1]"
   ]
  },
  {
   "cell_type": "code",
   "execution_count": 31,
   "metadata": {},
   "outputs": [],
   "source": [
    "# Checking Ouput by dropping columns\n",
    "# x = x.drop(['SEX','LIMIT_BAL'],axis='columns')\n",
    "\n",
    "# x['pay_out_0'] = x['PAY_0']*x['PAY_AMT1']/x['BILL_AMT1']\n",
    "# x['pay_out_2'] = x['PAY_2']*x['PAY_AMT2']/x['BILL_AMT2']\n",
    "# x['pay_out_3'] = x['PAY_3']*x['PAY_AMT3']/x['BILL_AMT3']\n",
    "# x['pay_out_4'] = x['PAY_4']*x['PAY_AMT4']/x['BILL_AMT4']\n",
    "# x['pay_out_5'] = x['PAY_5']*x['PAY_AMT5']/x['BILL_AMT5']\n",
    "# x['pay_out_6'] = x['PAY_6']*x['PAY_AMT6']/x['BILL_AMT6']\n",
    "\n",
    "# x = x.drop(['PAY_0','PAY_2','PAY_3','PAY_4','PAY_5','PAY_6','PAY_AMT1','PAY_AMT2','PAY_AMT3','PAY_AMT4','PAY_AMT5','PAY_AMT6','BILL_AMT1','BILL_AMT2','BILL_AMT3','BILL_AMT4','BILL_AMT5','BILL_AMT6'],axis='columns')\n"
   ]
  },
  {
   "cell_type": "code",
   "execution_count": 43,
   "metadata": {},
   "outputs": [
    {
     "name": "stdout",
     "output_type": "stream",
     "text": "Index(['EDUCATION', 'MARRIAGE', 'AGE', 'pay_out_0', 'pay_out_2', 'pay_out_3',\n       'pay_out_4', 'pay_out_5', 'pay_out_6'],\n      dtype='object')\n   EDUCATION  MARRIAGE  AGE  pay_out_0  pay_out_2  pay_out_3  pay_out_4  \\\n0          2         1   24   0.000000    0.44423  -0.000000        0.0   \n1          2         2   26  -0.000000    1.15942   0.000000        0.0   \n2          2         2   34   0.000000    0.00000   0.000000        0.0   \n3          2         1   37   0.000000    0.00000   0.000000        0.0   \n4          2         1   57  -0.232099    0.00000  -0.279057        0.0   \n\n   pay_out_5  pay_out_6  \n0        0.0   0.000000  \n1        0.0   1.226618  \n2        0.0   0.000000  \n3        0.0   0.000000  \n4        0.0   0.000000  \nFalse\nTrue\n"
    }
   ],
   "source": [
    "print(x.columns)\n",
    "x = x.replace([np.inf, -np.inf], np.nan)\n",
    "x = x.replace(np.NaN,0.0)\n",
    "print(x.head())\n",
    "print(np.any(np.isnan(x)))\n",
    "print(np.all(np.isfinite(x)))"
   ]
  },
  {
   "cell_type": "code",
   "execution_count": 44,
   "metadata": {},
   "outputs": [],
   "source": [
    "xtrain, xtest, ytrain, ytest = train_test_split(x,y,test_size = 0.25, random_state = 0)"
   ]
  },
  {
   "cell_type": "code",
   "execution_count": 45,
   "metadata": {},
   "outputs": [
    {
     "name": "stdout",
     "output_type": "stream",
     "text": "[[-1.08010966  0.85721426 -0.92153324  0.00948731 -0.01940688 -0.00929425\n  -0.0137537  -0.01275582 -0.01825552]\n [ 1.45760949 -1.06020505  1.91119729  0.00948731 -0.01940688 -0.00929425\n  -0.0137537  -0.01275582 -0.01825552]\n [ 1.45760949 -1.06020505  0.27692967  0.01093746 -0.01940688 -0.00915299\n  -0.01357892 -0.01246505 -0.01740774]\n [ 0.18874991 -1.06020505 -0.2678262   0.00673255 -0.02199136 -0.0096877\n  -0.03703844 -0.01707562 -0.01825552]\n [ 0.18874991 -1.06020505  1.91119729  0.0097621  -0.01940688 -0.00929425\n  -0.0137537  -0.01275582 -0.01825552]\n [ 1.45760949 -1.06020505  0.93063672  0.00948731 -0.01940688 -0.00929425\n  -0.0137537  -0.01275582 -0.01825552]\n [ 0.18874991  0.85721426  0.6037832   0.00948731 -0.01940688 -0.00929425\n  -0.0137537  -0.01275582 -0.01825552]\n [ 1.45760949 -1.06020505 -0.48572855  0.00768196 -0.02412254 -0.00958072\n  -0.02234351 -0.02009628 -0.02635576]\n [ 3.99532864 -1.06020505 -0.15887502  0.00948731 -0.01940688 -0.00929425\n  -0.0137537  -0.01275582 -0.01825552]\n [-1.08010966  0.85721426 -1.03048442  0.00948731 -0.01940688 -0.00929425\n  -0.0137537  -0.01275582 -0.01825552]]\n"
    }
   ],
   "source": [
    "sc = StandardScaler()\n",
    "# xtrain = xtrain.reset_index()\n",
    "xtrain = sc.fit_transform(xtrain)\n",
    "xtest = sc.transform(xtest)\n",
    "print(xtrain[0:10,:])"
   ]
  },
  {
   "cell_type": "code",
   "execution_count": 46,
   "metadata": {},
   "outputs": [
    {
     "name": "stderr",
     "output_type": "stream",
     "text": "E:\\Anaconda\\lib\\site-packages\\sklearn\\linear_model\\logistic.py:432: FutureWarning: Default solver will be changed to 'lbfgs' in 0.22. Specify a solver to silence this warning.\n  FutureWarning)\n"
    },
    {
     "data": {
      "text/plain": "LogisticRegression(C=1.0, class_weight=None, dual=False, fit_intercept=True,\n                   intercept_scaling=1, l1_ratio=None, max_iter=100,\n                   multi_class='warn', n_jobs=None, penalty='l2',\n                   random_state=0, solver='warn', tol=0.0001, verbose=0,\n                   warm_start=False)"
     },
     "execution_count": 46,
     "metadata": {},
     "output_type": "execute_result"
    }
   ],
   "source": [
    "classifier = LogisticRegression(random_state=0)\n",
    "classifier.fit(xtrain,ytrain)"
   ]
  },
  {
   "cell_type": "code",
   "execution_count": 47,
   "metadata": {},
   "outputs": [],
   "source": [
    "ypred = classifier.predict(xtest)"
   ]
  },
  {
   "cell_type": "code",
   "execution_count": 48,
   "metadata": {},
   "outputs": [
    {
     "name": "stdout",
     "output_type": "stream",
     "text": "CM \n [[5868    0]\n [1632    0]]\n"
    }
   ],
   "source": [
    "cm = confusion_matrix(ytest,ypred)\n",
    "\n",
    "print(\"CM \\n\",cm)"
   ]
  },
  {
   "cell_type": "code",
   "execution_count": 49,
   "metadata": {},
   "outputs": [
    {
     "name": "stdout",
     "output_type": "stream",
     "text": "Accuracy : % 78.24\n"
    }
   ],
   "source": [
    "print(\"Accuracy : %\",accuracy_score(ytest,ypred)*100)"
   ]
  }
 ]
}