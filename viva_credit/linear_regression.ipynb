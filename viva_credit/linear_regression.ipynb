{
 "nbformat": 4,
 "nbformat_minor": 2,
 "metadata": {
  "language_info": {
   "name": "python",
   "codemirror_mode": {
    "name": "ipython",
    "version": 3
   },
   "version": "3.7.4"
  },
  "orig_nbformat": 2,
  "file_extension": ".py",
  "mimetype": "text/x-python",
  "name": "python",
  "npconvert_exporter": "python",
  "pygments_lexer": "ipython3",
  "version": 3
 },
 "cells": [
  {
   "cell_type": "code",
   "execution_count": 14,
   "metadata": {},
   "outputs": [],
   "source": [
    "import pandas as pd\n",
    "from sklearn.linear_model import LogisticRegression\n",
    "from sklearn.metrics import confusion_matrix,accuracy_score\n",
    "from sklearn.model_selection import train_test_split\n",
    "from sklearn.preprocessing import StandardScaler \n",
    "import numpy as np\n",
    "import matplotlib.pyplot as plt"
   ]
  },
  {
   "cell_type": "code",
   "execution_count": 2,
   "metadata": {},
   "outputs": [],
   "source": [
    "data = pd.read_csv(\"./viva_credit.csv\")\n",
    "# print(len(data.index))"
   ]
  },
  {
   "cell_type": "code",
   "execution_count": 3,
   "metadata": {},
   "outputs": [],
   "source": [
    "x = data.iloc[:,1:-1]\n",
    "y = data.iloc[:,-1]"
   ]
  },
  {
   "cell_type": "code",
   "execution_count": 9,
   "metadata": {},
   "outputs": [
    {
     "name": "stdout",
     "output_type": "stream",
     "text": "Index(['LIMIT_BAL', 'SEX', 'EDUCATION', 'MARRIAGE', 'AGE', 'PAY_0', 'PAY_2',\n       'PAY_3', 'PAY_4', 'PAY_5', 'PAY_6', 'BILL_AMT1', 'BILL_AMT2',\n       'BILL_AMT3', 'BILL_AMT4', 'BILL_AMT5', 'BILL_AMT6', 'PAY_AMT1',\n       'PAY_AMT2', 'PAY_AMT3', 'PAY_AMT4', 'PAY_AMT5', 'PAY_AMT6'],\n      dtype='object')\n"
    }
   ],
   "source": [
    "print(x.columns)"
   ]
  },
  {
   "cell_type": "code",
   "execution_count": 4,
   "metadata": {},
   "outputs": [],
   "source": [
    "xtrain, xtest, ytrain, ytest = train_test_split(x,y,test_size = 0.25, random_state = 0)"
   ]
  },
  {
   "cell_type": "code",
   "execution_count": 5,
   "metadata": {},
   "outputs": [
    {
     "name": "stdout",
     "output_type": "stream",
     "text": "[[-2.89244757e-01  8.16496581e-01 -1.08010966e+00  8.57214256e-01\n  -9.21533245e-01  1.17142655e-02  1.03166943e-01  1.29409731e-01\n   1.81511785e-01  2.28084734e-01 -6.22528657e-01 -3.33250365e-01\n  -2.93165392e-01 -2.50201297e-01 -1.37828348e-01 -3.04239959e-01\n  -6.42983686e-01 -2.19769461e-01 -1.64998751e-01 -9.37752087e-03\n  -2.80649568e-01 -2.66178330e-01 -2.98187485e-01]\n [-2.89244757e-01  8.16496581e-01  1.45760949e+00 -1.06020505e+00\n   1.91119729e+00  1.17142655e-02  1.03166943e-01  1.29409731e-01\n   1.81511785e-01  2.28084734e-01  2.44771330e-01 -4.46067156e-01\n  -4.07632592e-01 -3.55954186e-01 -2.94649025e-01 -2.45505766e-01\n  -1.91804178e-01 -1.99202455e-01 -1.48757653e-01 -1.69156807e-01\n  -2.10795206e-01 -1.54696493e-01 -1.45685778e-01]\n [-2.11994135e-01 -1.22474487e+00  1.45760949e+00 -1.06020505e+00\n   2.76929674e-01  1.78064697e+00  1.76357912e+00  1.78992809e+00\n   1.88780599e+00  1.99071792e+00  1.97937130e+00  8.12221401e-01\n   1.16318413e+00  1.16471287e+00  1.44762024e+00  1.58865876e+00\n   1.62225175e+00  1.00945389e+00 -2.49149518e-01  2.86072342e-01\n  -1.43103912e-01 -1.64770555e-01  5.78357385e-03]\n [ 7.92263943e-01  8.16496581e-01  1.88749911e-01 -1.06020505e+00\n  -2.67826198e-01 -8.72752089e-01 -7.27039144e-01 -7.00849448e-01\n  -6.71635315e-01 -6.53231858e-01  2.44771330e-01 -5.43452621e-01\n  -5.69990288e-01 -6.27685976e-01 -6.50760688e-01 -5.35921101e-01\n  -4.73582029e-01  1.92410117e-01 -9.90666249e-02 -2.12883386e-01\n   1.97388388e-01 -5.13539647e-02 -1.83481425e-01]\n [ 4.06010836e-01  8.16496581e-01  1.88749911e-01 -1.06020505e+00\n   1.91119729e+00  1.78064697e+00  1.03166943e-01  1.29409731e-01\n   1.81511785e-01  2.28084734e-01  2.44771330e-01  2.31182089e+00\n   2.47087917e+00  2.54354342e+00  2.69242939e+00  2.83485016e+00\n   2.90438581e+00  1.69384665e-01  9.16610881e-02  1.67892397e-01\n   1.87972682e-01  2.32454374e-01  8.26366339e-02]\n [-9.07249728e-01  8.16496581e-01  1.45760949e+00 -1.06020505e+00\n   9.30636721e-01  1.17142655e-02  1.03166943e-01  1.29409731e-01\n   1.81511785e-01  2.28084734e-01  2.44771330e-01 -6.67900629e-02\n  -2.52306020e-02  2.69596414e-02  1.04653314e-01 -5.21503318e-01\n  -5.03930199e-01 -2.34040444e-01 -1.51913306e-01 -1.74829444e-01\n  -2.97317913e-01 -3.06207715e-01  2.62094264e-01]\n [ 1.10126643e+00 -1.22474487e+00  1.88749911e-01  8.57214256e-01\n   6.03783197e-01  1.17142655e-02  1.03166943e-01  1.29409731e-01\n   1.81511785e-01  2.28084734e-01  2.44771330e-01  4.34849610e+00\n   4.14827808e+00  3.63143801e+00  1.96186803e+00  1.85269686e+00\n   5.80128758e-01  2.74917987e-01  1.41225890e-01  1.08802424e-01\n   1.36822493e-01  1.53616767e-02  1.04841821e+01]\n [ 1.48751954e+00  8.16496581e-01  1.45760949e+00 -1.06020505e+00\n  -4.85728547e-01 -8.72752089e-01 -7.27039144e-01 -7.00849448e-01\n  -6.71635315e-01 -6.53231858e-01 -6.22528657e-01 -3.06365142e-01\n  -4.88988393e-01 -5.24618783e-01 -6.21883384e-01 -5.61534258e-01\n  -5.63493134e-01  5.35513339e-01  2.01267462e-01 -1.03921477e-01\n   9.92869071e-02  4.73184690e-02 -6.18930014e-02]\n [-1.34743514e-01  8.16496581e-01  3.99532864e+00 -1.06020505e+00\n  -1.58875024e-01  1.17142655e-02  1.03166943e-01  1.29409731e-01\n   1.81511785e-01  2.28084734e-01  2.44771330e-01 -4.95914846e-01\n  -4.44976703e-01 -3.99156350e-01 -3.78274191e-01 -3.24438143e-01\n  -2.80006718e-01 -1.59807346e-01 -1.64998751e-01 -1.86647439e-01\n  -1.81275694e-01 -1.84785248e-01 -2.40834455e-01]\n [ 1.97577288e-02  8.16496581e-01 -1.08010966e+00  8.57214256e-01\n  -1.03048442e+00  1.17142655e-02  1.03166943e-01  1.29409731e-01\n   1.81511785e-01  2.28084734e-01  2.44771330e-01  1.65758191e+00\n   1.63962589e+00  1.77022181e+00  1.71465701e+00  1.24027330e+00\n   1.13248575e+00  1.40003229e-01  1.29528933e-01  3.78944572e-02\n  -8.55281398e-02 -8.47117854e-02 -1.08922486e-01]]\n"
    }
   ],
   "source": [
    "sc = StandardScaler()\n",
    "xtrain = sc.fit_transform(xtrain)\n",
    "xtest = sc.transform(xtest)\n",
    "print(xtrain[0:10,:])"
   ]
  },
  {
   "cell_type": "code",
   "execution_count": 10,
   "metadata": {},
   "outputs": [
    {
     "name": "stderr",
     "output_type": "stream",
     "text": "E:\\Anaconda\\lib\\site-packages\\sklearn\\linear_model\\logistic.py:432: FutureWarning: Default solver will be changed to 'lbfgs' in 0.22. Specify a solver to silence this warning.\n  FutureWarning)\n"
    },
    {
     "data": {
      "text/plain": "LogisticRegression(C=1.0, class_weight=None, dual=False, fit_intercept=True,\n                   intercept_scaling=1, l1_ratio=None, max_iter=100,\n                   multi_class='warn', n_jobs=None, penalty='l2',\n                   random_state=0, solver='warn', tol=0.0001, verbose=0,\n                   warm_start=False)"
     },
     "execution_count": 10,
     "metadata": {},
     "output_type": "execute_result"
    }
   ],
   "source": [
    "classifier = LogisticRegression(random_state=0)\n",
    "classifier.fit(xtrain,ytrain)"
   ]
  },
  {
   "cell_type": "code",
   "execution_count": 11,
   "metadata": {},
   "outputs": [],
   "source": [
    "ypred = classifier.predict(xtest)"
   ]
  },
  {
   "cell_type": "code",
   "execution_count": 13,
   "metadata": {},
   "outputs": [
    {
     "name": "stdout",
     "output_type": "stream",
     "text": "CM \n [[5742  126]\n [1263  369]]\n"
    }
   ],
   "source": [
    "cm = confusion_matrix(ytest,ypred)\n",
    "\n",
    "print(\"CM \\n\",cm)"
   ]
  },
  {
   "cell_type": "code",
   "execution_count": 15,
   "metadata": {},
   "outputs": [
    {
     "name": "stdout",
     "output_type": "stream",
     "text": "Accuracy :  0.8148\n"
    }
   ],
   "source": [
    "print(\"Accuracy : \",accuracy_score(ytest,ypred))"
   ]
  },
  {
   "cell_type": "code",
   "execution_count": 17,
   "metadata": {},
   "outputs": [
    {
     "ename": "ValueError",
     "evalue": "x and y must be the same size",
     "output_type": "error",
     "traceback": [
      "\u001b[1;31m---------------------------------------------------------------------------\u001b[0m",
      "\u001b[1;31mValueError\u001b[0m                                Traceback (most recent call last)",
      "\u001b[1;32m<ipython-input-17-35795022b701>\u001b[0m in \u001b[0;36m<module>\u001b[1;34m\u001b[0m\n\u001b[1;32m----> 1\u001b[1;33m \u001b[0mplt\u001b[0m\u001b[1;33m.\u001b[0m\u001b[0mscatter\u001b[0m\u001b[1;33m(\u001b[0m\u001b[0mxtest\u001b[0m\u001b[1;33m,\u001b[0m\u001b[0mypred\u001b[0m\u001b[1;33m)\u001b[0m\u001b[1;33m\u001b[0m\u001b[1;33m\u001b[0m\u001b[0m\n\u001b[0m\u001b[0;32m      2\u001b[0m \u001b[0mplt\u001b[0m\u001b[1;33m.\u001b[0m\u001b[0mshow\u001b[0m\u001b[1;33m(\u001b[0m\u001b[1;33m)\u001b[0m\u001b[1;33m\u001b[0m\u001b[1;33m\u001b[0m\u001b[0m\n",
      "\u001b[1;32mE:\\Anaconda\\lib\\site-packages\\matplotlib\\pyplot.py\u001b[0m in \u001b[0;36mscatter\u001b[1;34m(x, y, s, c, marker, cmap, norm, vmin, vmax, alpha, linewidths, verts, edgecolors, plotnonfinite, data, **kwargs)\u001b[0m\n\u001b[0;32m   2845\u001b[0m         \u001b[0mverts\u001b[0m\u001b[1;33m=\u001b[0m\u001b[0mverts\u001b[0m\u001b[1;33m,\u001b[0m \u001b[0medgecolors\u001b[0m\u001b[1;33m=\u001b[0m\u001b[0medgecolors\u001b[0m\u001b[1;33m,\u001b[0m\u001b[1;33m\u001b[0m\u001b[1;33m\u001b[0m\u001b[0m\n\u001b[0;32m   2846\u001b[0m         plotnonfinite=plotnonfinite, **({\"data\": data} if data is not\n\u001b[1;32m-> 2847\u001b[1;33m         None else {}), **kwargs)\n\u001b[0m\u001b[0;32m   2848\u001b[0m     \u001b[0msci\u001b[0m\u001b[1;33m(\u001b[0m\u001b[0m__ret\u001b[0m\u001b[1;33m)\u001b[0m\u001b[1;33m\u001b[0m\u001b[1;33m\u001b[0m\u001b[0m\n\u001b[0;32m   2849\u001b[0m     \u001b[1;32mreturn\u001b[0m \u001b[0m__ret\u001b[0m\u001b[1;33m\u001b[0m\u001b[1;33m\u001b[0m\u001b[0m\n",
      "\u001b[1;32mE:\\Anaconda\\lib\\site-packages\\matplotlib\\__init__.py\u001b[0m in \u001b[0;36minner\u001b[1;34m(ax, data, *args, **kwargs)\u001b[0m\n\u001b[0;32m   1599\u001b[0m     \u001b[1;32mdef\u001b[0m \u001b[0minner\u001b[0m\u001b[1;33m(\u001b[0m\u001b[0max\u001b[0m\u001b[1;33m,\u001b[0m \u001b[1;33m*\u001b[0m\u001b[0margs\u001b[0m\u001b[1;33m,\u001b[0m \u001b[0mdata\u001b[0m\u001b[1;33m=\u001b[0m\u001b[1;32mNone\u001b[0m\u001b[1;33m,\u001b[0m \u001b[1;33m**\u001b[0m\u001b[0mkwargs\u001b[0m\u001b[1;33m)\u001b[0m\u001b[1;33m:\u001b[0m\u001b[1;33m\u001b[0m\u001b[1;33m\u001b[0m\u001b[0m\n\u001b[0;32m   1600\u001b[0m         \u001b[1;32mif\u001b[0m \u001b[0mdata\u001b[0m \u001b[1;32mis\u001b[0m \u001b[1;32mNone\u001b[0m\u001b[1;33m:\u001b[0m\u001b[1;33m\u001b[0m\u001b[1;33m\u001b[0m\u001b[0m\n\u001b[1;32m-> 1601\u001b[1;33m             \u001b[1;32mreturn\u001b[0m \u001b[0mfunc\u001b[0m\u001b[1;33m(\u001b[0m\u001b[0max\u001b[0m\u001b[1;33m,\u001b[0m \u001b[1;33m*\u001b[0m\u001b[0mmap\u001b[0m\u001b[1;33m(\u001b[0m\u001b[0msanitize_sequence\u001b[0m\u001b[1;33m,\u001b[0m \u001b[0margs\u001b[0m\u001b[1;33m)\u001b[0m\u001b[1;33m,\u001b[0m \u001b[1;33m**\u001b[0m\u001b[0mkwargs\u001b[0m\u001b[1;33m)\u001b[0m\u001b[1;33m\u001b[0m\u001b[1;33m\u001b[0m\u001b[0m\n\u001b[0m\u001b[0;32m   1602\u001b[0m \u001b[1;33m\u001b[0m\u001b[0m\n\u001b[0;32m   1603\u001b[0m         \u001b[0mbound\u001b[0m \u001b[1;33m=\u001b[0m \u001b[0mnew_sig\u001b[0m\u001b[1;33m.\u001b[0m\u001b[0mbind\u001b[0m\u001b[1;33m(\u001b[0m\u001b[0max\u001b[0m\u001b[1;33m,\u001b[0m \u001b[1;33m*\u001b[0m\u001b[0margs\u001b[0m\u001b[1;33m,\u001b[0m \u001b[1;33m**\u001b[0m\u001b[0mkwargs\u001b[0m\u001b[1;33m)\u001b[0m\u001b[1;33m\u001b[0m\u001b[1;33m\u001b[0m\u001b[0m\n",
      "\u001b[1;32mE:\\Anaconda\\lib\\site-packages\\matplotlib\\axes\\_axes.py\u001b[0m in \u001b[0;36mscatter\u001b[1;34m(self, x, y, s, c, marker, cmap, norm, vmin, vmax, alpha, linewidths, verts, edgecolors, plotnonfinite, **kwargs)\u001b[0m\n\u001b[0;32m   4442\u001b[0m         \u001b[0my\u001b[0m \u001b[1;33m=\u001b[0m \u001b[0mnp\u001b[0m\u001b[1;33m.\u001b[0m\u001b[0mma\u001b[0m\u001b[1;33m.\u001b[0m\u001b[0mravel\u001b[0m\u001b[1;33m(\u001b[0m\u001b[0my\u001b[0m\u001b[1;33m)\u001b[0m\u001b[1;33m\u001b[0m\u001b[1;33m\u001b[0m\u001b[0m\n\u001b[0;32m   4443\u001b[0m         \u001b[1;32mif\u001b[0m \u001b[0mx\u001b[0m\u001b[1;33m.\u001b[0m\u001b[0msize\u001b[0m \u001b[1;33m!=\u001b[0m \u001b[0my\u001b[0m\u001b[1;33m.\u001b[0m\u001b[0msize\u001b[0m\u001b[1;33m:\u001b[0m\u001b[1;33m\u001b[0m\u001b[1;33m\u001b[0m\u001b[0m\n\u001b[1;32m-> 4444\u001b[1;33m             \u001b[1;32mraise\u001b[0m \u001b[0mValueError\u001b[0m\u001b[1;33m(\u001b[0m\u001b[1;34m\"x and y must be the same size\"\u001b[0m\u001b[1;33m)\u001b[0m\u001b[1;33m\u001b[0m\u001b[1;33m\u001b[0m\u001b[0m\n\u001b[0m\u001b[0;32m   4445\u001b[0m \u001b[1;33m\u001b[0m\u001b[0m\n\u001b[0;32m   4446\u001b[0m         \u001b[1;32mif\u001b[0m \u001b[0ms\u001b[0m \u001b[1;32mis\u001b[0m \u001b[1;32mNone\u001b[0m\u001b[1;33m:\u001b[0m\u001b[1;33m\u001b[0m\u001b[1;33m\u001b[0m\u001b[0m\n",
      "\u001b[1;31mValueError\u001b[0m: x and y must be the same size"
     ]
    }
   ],
   "source": []
  }
 ]
}